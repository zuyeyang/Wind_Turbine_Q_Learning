{
 "cells": [
  {
   "cell_type": "markdown",
   "metadata": {},
   "source": [
    "# 1.Import Data"
   ]
  },
  {
   "cell_type": "code",
   "execution_count": 1,
   "metadata": {},
   "outputs": [],
   "source": [
    "import pandas as pd\n",
    "import numpy as np\n",
    "import json"
   ]
  },
  {
   "cell_type": "code",
   "execution_count": 2,
   "metadata": {},
   "outputs": [
    {
     "data": {
      "text/html": [
       "<div>\n",
       "<style scoped>\n",
       "    .dataframe tbody tr th:only-of-type {\n",
       "        vertical-align: middle;\n",
       "    }\n",
       "\n",
       "    .dataframe tbody tr th {\n",
       "        vertical-align: top;\n",
       "    }\n",
       "\n",
       "    .dataframe thead th {\n",
       "        text-align: right;\n",
       "    }\n",
       "</style>\n",
       "<table border=\"1\" class=\"dataframe\">\n",
       "  <thead>\n",
       "    <tr style=\"text-align: right;\">\n",
       "      <th></th>\n",
       "      <th>prev_displ</th>\n",
       "      <th>prev_vell</th>\n",
       "      <th>prev_accl</th>\n",
       "      <th>prev_wspd</th>\n",
       "      <th>displ</th>\n",
       "      <th>vell</th>\n",
       "      <th>accl</th>\n",
       "      <th>wspd</th>\n",
       "      <th>act</th>\n",
       "      <th>dispm</th>\n",
       "      <th>velm</th>\n",
       "      <th>accm</th>\n",
       "      <th>dispm_0</th>\n",
       "      <th>velm_0</th>\n",
       "      <th>accm_0</th>\n",
       "    </tr>\n",
       "  </thead>\n",
       "  <tbody>\n",
       "    <tr>\n",
       "      <th>0</th>\n",
       "      <td>0.000000</td>\n",
       "      <td>0.000000</td>\n",
       "      <td>0.00000</td>\n",
       "      <td>0.00</td>\n",
       "      <td>0.000101</td>\n",
       "      <td>0.000005</td>\n",
       "      <td>0.000060</td>\n",
       "      <td>2.860</td>\n",
       "      <td>10.0</td>\n",
       "      <td>0.000107</td>\n",
       "      <td>0.000142</td>\n",
       "      <td>0.000336</td>\n",
       "      <td>0.000108</td>\n",
       "      <td>0.000142</td>\n",
       "      <td>0.000336</td>\n",
       "    </tr>\n",
       "    <tr>\n",
       "      <th>1</th>\n",
       "      <td>0.000000</td>\n",
       "      <td>0.000000</td>\n",
       "      <td>0.00000</td>\n",
       "      <td>0.00</td>\n",
       "      <td>0.000100</td>\n",
       "      <td>0.000018</td>\n",
       "      <td>0.000051</td>\n",
       "      <td>2.860</td>\n",
       "      <td>20.0</td>\n",
       "      <td>0.000107</td>\n",
       "      <td>0.000142</td>\n",
       "      <td>0.000336</td>\n",
       "      <td>0.000108</td>\n",
       "      <td>0.000142</td>\n",
       "      <td>0.000336</td>\n",
       "    </tr>\n",
       "    <tr>\n",
       "      <th>2</th>\n",
       "      <td>0.000000</td>\n",
       "      <td>0.000000</td>\n",
       "      <td>0.00000</td>\n",
       "      <td>0.00</td>\n",
       "      <td>0.000099</td>\n",
       "      <td>0.000025</td>\n",
       "      <td>0.000035</td>\n",
       "      <td>2.860</td>\n",
       "      <td>30.0</td>\n",
       "      <td>0.000107</td>\n",
       "      <td>0.000142</td>\n",
       "      <td>0.000336</td>\n",
       "      <td>0.000108</td>\n",
       "      <td>0.000142</td>\n",
       "      <td>0.000336</td>\n",
       "    </tr>\n",
       "    <tr>\n",
       "      <th>3</th>\n",
       "      <td>0.000000</td>\n",
       "      <td>0.000000</td>\n",
       "      <td>0.00000</td>\n",
       "      <td>0.00</td>\n",
       "      <td>0.000098</td>\n",
       "      <td>0.000026</td>\n",
       "      <td>0.000017</td>\n",
       "      <td>2.860</td>\n",
       "      <td>40.0</td>\n",
       "      <td>0.000107</td>\n",
       "      <td>0.000142</td>\n",
       "      <td>0.000336</td>\n",
       "      <td>0.000108</td>\n",
       "      <td>0.000142</td>\n",
       "      <td>0.000336</td>\n",
       "    </tr>\n",
       "    <tr>\n",
       "      <th>4</th>\n",
       "      <td>0.000000</td>\n",
       "      <td>0.000000</td>\n",
       "      <td>0.00000</td>\n",
       "      <td>0.00</td>\n",
       "      <td>0.000096</td>\n",
       "      <td>0.000022</td>\n",
       "      <td>0.000006</td>\n",
       "      <td>2.860</td>\n",
       "      <td>50.0</td>\n",
       "      <td>0.000107</td>\n",
       "      <td>0.000146</td>\n",
       "      <td>0.000336</td>\n",
       "      <td>0.000108</td>\n",
       "      <td>0.000142</td>\n",
       "      <td>0.000336</td>\n",
       "    </tr>\n",
       "    <tr>\n",
       "      <th>...</th>\n",
       "      <td>...</td>\n",
       "      <td>...</td>\n",
       "      <td>...</td>\n",
       "      <td>...</td>\n",
       "      <td>...</td>\n",
       "      <td>...</td>\n",
       "      <td>...</td>\n",
       "      <td>...</td>\n",
       "      <td>...</td>\n",
       "      <td>...</td>\n",
       "      <td>...</td>\n",
       "      <td>...</td>\n",
       "      <td>...</td>\n",
       "      <td>...</td>\n",
       "      <td>...</td>\n",
       "    </tr>\n",
       "    <tr>\n",
       "      <th>23835</th>\n",
       "      <td>0.000077</td>\n",
       "      <td>0.000241</td>\n",
       "      <td>0.00019</td>\n",
       "      <td>10.34</td>\n",
       "      <td>0.000037</td>\n",
       "      <td>0.000175</td>\n",
       "      <td>0.000093</td>\n",
       "      <td>9.636</td>\n",
       "      <td>160.0</td>\n",
       "      <td>0.000124</td>\n",
       "      <td>0.000291</td>\n",
       "      <td>0.001836</td>\n",
       "      <td>0.000364</td>\n",
       "      <td>0.001143</td>\n",
       "      <td>0.003881</td>\n",
       "    </tr>\n",
       "    <tr>\n",
       "      <th>23836</th>\n",
       "      <td>0.000077</td>\n",
       "      <td>0.000241</td>\n",
       "      <td>0.00019</td>\n",
       "      <td>10.34</td>\n",
       "      <td>0.000036</td>\n",
       "      <td>0.000162</td>\n",
       "      <td>0.000076</td>\n",
       "      <td>9.636</td>\n",
       "      <td>170.0</td>\n",
       "      <td>0.000123</td>\n",
       "      <td>0.000265</td>\n",
       "      <td>0.001998</td>\n",
       "      <td>0.000364</td>\n",
       "      <td>0.001143</td>\n",
       "      <td>0.003881</td>\n",
       "    </tr>\n",
       "    <tr>\n",
       "      <th>23837</th>\n",
       "      <td>0.000077</td>\n",
       "      <td>0.000241</td>\n",
       "      <td>0.00019</td>\n",
       "      <td>10.34</td>\n",
       "      <td>0.000035</td>\n",
       "      <td>0.000152</td>\n",
       "      <td>0.000064</td>\n",
       "      <td>9.636</td>\n",
       "      <td>180.0</td>\n",
       "      <td>0.000122</td>\n",
       "      <td>0.000259</td>\n",
       "      <td>0.002159</td>\n",
       "      <td>0.000364</td>\n",
       "      <td>0.001143</td>\n",
       "      <td>0.003881</td>\n",
       "    </tr>\n",
       "    <tr>\n",
       "      <th>23838</th>\n",
       "      <td>0.000077</td>\n",
       "      <td>0.000241</td>\n",
       "      <td>0.00019</td>\n",
       "      <td>10.34</td>\n",
       "      <td>0.000063</td>\n",
       "      <td>0.000175</td>\n",
       "      <td>0.000094</td>\n",
       "      <td>9.636</td>\n",
       "      <td>190.0</td>\n",
       "      <td>0.000153</td>\n",
       "      <td>0.000352</td>\n",
       "      <td>0.002319</td>\n",
       "      <td>0.000364</td>\n",
       "      <td>0.001143</td>\n",
       "      <td>0.003881</td>\n",
       "    </tr>\n",
       "    <tr>\n",
       "      <th>23839</th>\n",
       "      <td>0.000077</td>\n",
       "      <td>0.000241</td>\n",
       "      <td>0.00019</td>\n",
       "      <td>10.34</td>\n",
       "      <td>0.000068</td>\n",
       "      <td>0.000171</td>\n",
       "      <td>0.000087</td>\n",
       "      <td>9.636</td>\n",
       "      <td>200.0</td>\n",
       "      <td>0.000170</td>\n",
       "      <td>0.000356</td>\n",
       "      <td>0.002478</td>\n",
       "      <td>0.000364</td>\n",
       "      <td>0.001143</td>\n",
       "      <td>0.003881</td>\n",
       "    </tr>\n",
       "  </tbody>\n",
       "</table>\n",
       "<p>23840 rows × 15 columns</p>\n",
       "</div>"
      ],
      "text/plain": [
       "       prev_displ  prev_vell  prev_accl  prev_wspd     displ      vell  \\\n",
       "0        0.000000   0.000000    0.00000       0.00  0.000101  0.000005   \n",
       "1        0.000000   0.000000    0.00000       0.00  0.000100  0.000018   \n",
       "2        0.000000   0.000000    0.00000       0.00  0.000099  0.000025   \n",
       "3        0.000000   0.000000    0.00000       0.00  0.000098  0.000026   \n",
       "4        0.000000   0.000000    0.00000       0.00  0.000096  0.000022   \n",
       "...           ...        ...        ...        ...       ...       ...   \n",
       "23835    0.000077   0.000241    0.00019      10.34  0.000037  0.000175   \n",
       "23836    0.000077   0.000241    0.00019      10.34  0.000036  0.000162   \n",
       "23837    0.000077   0.000241    0.00019      10.34  0.000035  0.000152   \n",
       "23838    0.000077   0.000241    0.00019      10.34  0.000063  0.000175   \n",
       "23839    0.000077   0.000241    0.00019      10.34  0.000068  0.000171   \n",
       "\n",
       "           accl   wspd    act     dispm      velm      accm   dispm_0  \\\n",
       "0      0.000060  2.860   10.0  0.000107  0.000142  0.000336  0.000108   \n",
       "1      0.000051  2.860   20.0  0.000107  0.000142  0.000336  0.000108   \n",
       "2      0.000035  2.860   30.0  0.000107  0.000142  0.000336  0.000108   \n",
       "3      0.000017  2.860   40.0  0.000107  0.000142  0.000336  0.000108   \n",
       "4      0.000006  2.860   50.0  0.000107  0.000146  0.000336  0.000108   \n",
       "...         ...    ...    ...       ...       ...       ...       ...   \n",
       "23835  0.000093  9.636  160.0  0.000124  0.000291  0.001836  0.000364   \n",
       "23836  0.000076  9.636  170.0  0.000123  0.000265  0.001998  0.000364   \n",
       "23837  0.000064  9.636  180.0  0.000122  0.000259  0.002159  0.000364   \n",
       "23838  0.000094  9.636  190.0  0.000153  0.000352  0.002319  0.000364   \n",
       "23839  0.000087  9.636  200.0  0.000170  0.000356  0.002478  0.000364   \n",
       "\n",
       "         velm_0    accm_0  \n",
       "0      0.000142  0.000336  \n",
       "1      0.000142  0.000336  \n",
       "2      0.000142  0.000336  \n",
       "3      0.000142  0.000336  \n",
       "4      0.000142  0.000336  \n",
       "...         ...       ...  \n",
       "23835  0.001143  0.003881  \n",
       "23836  0.001143  0.003881  \n",
       "23837  0.001143  0.003881  \n",
       "23838  0.001143  0.003881  \n",
       "23839  0.001143  0.003881  \n",
       "\n",
       "[23840 rows x 15 columns]"
      ]
     },
     "execution_count": 2,
     "metadata": {},
     "output_type": "execute_result"
    }
   ],
   "source": [
    "data = np.abs(round(pd.read_csv('Data/Raw/data_2.csv'),6))\n",
    "data"
   ]
  },
  {
   "cell_type": "code",
   "execution_count": 3,
   "metadata": {},
   "outputs": [],
   "source": [
    "#reward function = Ucondi/Uuncondi if \n",
    "for j in ['disp','vel','acc']:\n",
    "    data['r_'+j] = np.abs(data[j+'m']/data[j+'m_0'])\n",
    "    # if no change reward = 0\n",
    "    data.loc[data['r_'+j]==1,'r_'+j] = 0 - data['act']/2000\n",
    "    data.loc[data['r_'+j]>1,'r_'+j] = -data.loc[data['r_'+j]>1,'r_'+j] - data['act']/2000\n",
    "    data.loc[(data['r_'+j]<1)&(data['r_'+j]>0),'r_'+j] = 1/data.loc[data['r_'+j]<1,'r_'+j] - data['act']/2000\n",
    "    \n",
    "    "
   ]
  },
  {
   "cell_type": "markdown",
   "metadata": {},
   "source": [
    "# 2. Create Subset data"
   ]
  },
  {
   "cell_type": "markdown",
   "metadata": {},
   "source": [
    "## 2.1 Check Data summary for rewards"
   ]
  },
  {
   "cell_type": "code",
   "execution_count": 5,
   "metadata": {},
   "outputs": [
    {
     "name": "stdout",
     "output_type": "stream",
     "text": [
      "0.8060500215200775\n",
      "1.1409633027522936\n",
      "\n",
      "1.2620703814849\n",
      "1.466666666666667\n",
      "\n",
      "0.22583906399485526\n",
      "0.9459776406805982\n",
      "\n"
     ]
    }
   ],
   "source": [
    "for j in ['disp','vel','acc']:\n",
    "    print(data['r_'+j].mean())\n",
    "    print(data['r_'+j].median())\n",
    "    print()"
   ]
  },
  {
   "cell_type": "markdown",
   "metadata": {},
   "source": [
    "# 2.2 Separate the Data for models"
   ]
  },
  {
   "cell_type": "code",
   "execution_count": 6,
   "metadata": {},
   "outputs": [
    {
     "data": {
      "text/html": [
       "<div>\n",
       "<style scoped>\n",
       "    .dataframe tbody tr th:only-of-type {\n",
       "        vertical-align: middle;\n",
       "    }\n",
       "\n",
       "    .dataframe tbody tr th {\n",
       "        vertical-align: top;\n",
       "    }\n",
       "\n",
       "    .dataframe thead th {\n",
       "        text-align: right;\n",
       "    }\n",
       "</style>\n",
       "<table border=\"1\" class=\"dataframe\">\n",
       "  <thead>\n",
       "    <tr style=\"text-align: right;\">\n",
       "      <th></th>\n",
       "      <th>state</th>\n",
       "      <th>state_p</th>\n",
       "      <th>act</th>\n",
       "      <th>r_disp</th>\n",
       "    </tr>\n",
       "  </thead>\n",
       "  <tbody>\n",
       "    <tr>\n",
       "      <th>0</th>\n",
       "      <td>(0.0, 0.0)</td>\n",
       "      <td>(0.000101, 2.86)</td>\n",
       "      <td>10.0</td>\n",
       "      <td>1.004346</td>\n",
       "    </tr>\n",
       "    <tr>\n",
       "      <th>1</th>\n",
       "      <td>(0.0, 0.0)</td>\n",
       "      <td>(0.0001, 2.86)</td>\n",
       "      <td>20.0</td>\n",
       "      <td>0.999346</td>\n",
       "    </tr>\n",
       "    <tr>\n",
       "      <th>2</th>\n",
       "      <td>(0.0, 0.0)</td>\n",
       "      <td>(9.9e-05, 2.86)</td>\n",
       "      <td>30.0</td>\n",
       "      <td>0.994346</td>\n",
       "    </tr>\n",
       "    <tr>\n",
       "      <th>3</th>\n",
       "      <td>(0.0, 0.0)</td>\n",
       "      <td>(9.8e-05, 2.86)</td>\n",
       "      <td>40.0</td>\n",
       "      <td>0.989346</td>\n",
       "    </tr>\n",
       "    <tr>\n",
       "      <th>4</th>\n",
       "      <td>(0.0, 0.0)</td>\n",
       "      <td>(9.6e-05, 2.86)</td>\n",
       "      <td>50.0</td>\n",
       "      <td>0.984346</td>\n",
       "    </tr>\n",
       "    <tr>\n",
       "      <th>...</th>\n",
       "      <td>...</td>\n",
       "      <td>...</td>\n",
       "      <td>...</td>\n",
       "      <td>...</td>\n",
       "    </tr>\n",
       "    <tr>\n",
       "      <th>23835</th>\n",
       "      <td>(7.7e-05, 10.34)</td>\n",
       "      <td>(3.7e-05, 9.636)</td>\n",
       "      <td>160.0</td>\n",
       "      <td>2.855484</td>\n",
       "    </tr>\n",
       "    <tr>\n",
       "      <th>23836</th>\n",
       "      <td>(7.7e-05, 10.34)</td>\n",
       "      <td>(3.6e-05, 9.636)</td>\n",
       "      <td>170.0</td>\n",
       "      <td>2.874350</td>\n",
       "    </tr>\n",
       "    <tr>\n",
       "      <th>23837</th>\n",
       "      <td>(7.7e-05, 10.34)</td>\n",
       "      <td>(3.5e-05, 9.636)</td>\n",
       "      <td>180.0</td>\n",
       "      <td>2.893607</td>\n",
       "    </tr>\n",
       "    <tr>\n",
       "      <th>23838</th>\n",
       "      <td>(7.7e-05, 10.34)</td>\n",
       "      <td>(6.3e-05, 9.636)</td>\n",
       "      <td>190.0</td>\n",
       "      <td>2.284085</td>\n",
       "    </tr>\n",
       "    <tr>\n",
       "      <th>23839</th>\n",
       "      <td>(7.7e-05, 10.34)</td>\n",
       "      <td>(6.8e-05, 9.636)</td>\n",
       "      <td>200.0</td>\n",
       "      <td>2.041176</td>\n",
       "    </tr>\n",
       "  </tbody>\n",
       "</table>\n",
       "<p>22332 rows × 4 columns</p>\n",
       "</div>"
      ],
      "text/plain": [
       "                  state           state_p    act    r_disp\n",
       "0            (0.0, 0.0)  (0.000101, 2.86)   10.0  1.004346\n",
       "1            (0.0, 0.0)    (0.0001, 2.86)   20.0  0.999346\n",
       "2            (0.0, 0.0)   (9.9e-05, 2.86)   30.0  0.994346\n",
       "3            (0.0, 0.0)   (9.8e-05, 2.86)   40.0  0.989346\n",
       "4            (0.0, 0.0)   (9.6e-05, 2.86)   50.0  0.984346\n",
       "...                 ...               ...    ...       ...\n",
       "23835  (7.7e-05, 10.34)  (3.7e-05, 9.636)  160.0  2.855484\n",
       "23836  (7.7e-05, 10.34)  (3.6e-05, 9.636)  170.0  2.874350\n",
       "23837  (7.7e-05, 10.34)  (3.5e-05, 9.636)  180.0  2.893607\n",
       "23838  (7.7e-05, 10.34)  (6.3e-05, 9.636)  190.0  2.284085\n",
       "23839  (7.7e-05, 10.34)  (6.8e-05, 9.636)  200.0  2.041176\n",
       "\n",
       "[22332 rows x 4 columns]"
      ]
     },
     "execution_count": 6,
     "metadata": {},
     "output_type": "execute_result"
    }
   ],
   "source": [
    "for j in ['disp','vel','acc']:\n",
    "    col_names = ['prev_'+j+'l', 'prev_wspd', j+'l', 'wspd', 'act', 'r_'+j]\n",
    "    globals()[j] = round(data[col_names],6)\n",
    "    eval(j)['state'] = list(zip( np.abs(eval(j)['prev_'+j+'l']),  eval(j)['prev_wspd']))\n",
    "    eval(j)['state_p'] = list(zip( np.abs(eval(j)[j+'l']),  eval(j)['wspd']))\n",
    "    globals()[j] = eval(j)[['state', 'state_p', 'act', 'r_'+j]].drop_duplicates()\n",
    "    eval(j).to_csv('Data/{}.csv'.format(j))\n",
    "# we have three datasets: disp, vel, acc, with s, s', a r\n",
    "disp"
   ]
  },
  {
   "cell_type": "code",
   "execution_count": 7,
   "metadata": {},
   "outputs": [
    {
     "name": "stdout",
     "output_type": "stream",
     "text": [
      "total samples: 22332\n",
      "total unique current state: 900\n",
      "total unique next state: 2667\n",
      "\n",
      "total samples: 22687\n",
      "total unique current state: 884\n",
      "total unique next state: 2551\n",
      "\n",
      "total samples: 22523\n",
      "total unique current state: 887\n",
      "total unique next state: 2791\n",
      "\n"
     ]
    }
   ],
   "source": [
    "#check the total states vs observed next states\n",
    "for j in [disp,vel,acc]:\n",
    "    print('total samples:',len(j))\n",
    "    print('total unique current state:', len(set(j['state'])))\n",
    "    print('total unique next state:',len(set(j['state_p'])))\n",
    "    print()"
   ]
  },
  {
   "cell_type": "code",
   "execution_count": 8,
   "metadata": {},
   "outputs": [
    {
     "name": "stdout",
     "output_type": "stream",
     "text": [
      "prev_displ : 185\n",
      "prev_vell : 287\n",
      "prev_accl : 382\n",
      "prev_wspd : 154\n",
      "displ : 217\n",
      "vell : 432\n",
      "accl : 887\n",
      "wspd : 155\n",
      "act : 20\n",
      "dispm : 244\n",
      "velm : 769\n",
      "accm : 2438\n",
      "dispm_0 : 252\n",
      "velm_0 : 612\n",
      "accm_0 : 905\n",
      "r_disp : 18623\n",
      "r_vel : 21833\n",
      "r_acc : 18234\n"
     ]
    }
   ],
   "source": [
    "for i in data.columns:\n",
    "    print(i,':',len(set(data[i])))\n",
    "# 20 actions\n",
    "# 395 displacement\n",
    "# 675 velocity\n",
    "# 1026 acceleration"
   ]
  },
  {
   "cell_type": "markdown",
   "metadata": {},
   "source": [
    "## 2.3 Unique Value of (parameter, wind_speed)"
   ]
  },
  {
   "cell_type": "code",
   "execution_count": 37,
   "metadata": {},
   "outputs": [
    {
     "data": {
      "text/plain": [
       "(33635, 67270, 138725)"
      ]
     },
     "execution_count": 37,
     "metadata": {},
     "output_type": "execute_result"
    }
   ],
   "source": [
    "for i in ['displ','vell','accl']:\n",
    "    temp = set(pd.concat([data['prev_'+i],data[i]], axis=0,ignore_index=True))\n",
    "    temp2 = set(pd.concat([data['prev_wspd'],data['wspd']], axis=0,ignore_index=True))\n",
    "    globals()['unique_{}'.format(i)] = [(j,k) for j in temp for k in temp2]\n",
    "len(unique_displ),len(unique_vell),len(unique_accl)\n",
    "(33635, 67270, 138725)"
   ]
  },
  {
   "cell_type": "markdown",
   "metadata": {},
   "source": [
    "# 4. Dictionarized all (disp/vel/acc, wind) to s1,s2..."
   ]
  },
  {
   "cell_type": "code",
   "execution_count": 38,
   "metadata": {},
   "outputs": [
    {
     "data": {
      "text/plain": [
       "33635"
      ]
     },
     "execution_count": 38,
     "metadata": {},
     "output_type": "execute_result"
    }
   ],
   "source": [
    "#create dictionary for each state\n",
    "for i in ['unique_displ','unique_vell','unique_accl']:\n",
    "  my_list = eval(i)\n",
    "  globals()['dict_'+i] = dict() \n",
    "  for index,value in enumerate(my_list):\n",
    "    eval('dict_'+i)[index+1] = value\n",
    "#dict_unique_prev_displ\n",
    "len(dict_unique_displ.keys())"
   ]
  },
  {
   "cell_type": "markdown",
   "metadata": {},
   "source": [
    "## 4.1 Conver the tuple states into a dictionarized states "
   ]
  },
  {
   "cell_type": "code",
   "execution_count": 39,
   "metadata": {},
   "outputs": [
    {
     "name": "stdout",
     "output_type": "stream",
     "text": [
      "disp\n"
     ]
    },
    {
     "name": "stderr",
     "output_type": "stream",
     "text": [
      "/opt/homebrew/Caskroom/miniforge/base/envs/tensorflow/lib/python3.9/site-packages/pandas/core/indexing.py:1732: SettingWithCopyWarning: \n",
      "A value is trying to be set on a copy of a slice from a DataFrame\n",
      "\n",
      "See the caveats in the documentation: https://pandas.pydata.org/pandas-docs/stable/user_guide/indexing.html#returning-a-view-versus-a-copy\n",
      "  self._setitem_single_block(indexer, value, name)\n"
     ]
    },
    {
     "name": "stdout",
     "output_type": "stream",
     "text": [
      "vel\n",
      "acc\n"
     ]
    }
   ],
   "source": [
    "\n",
    "for i in ['disp','vel','acc']:\n",
    "    print(i)\n",
    "    index = 0\n",
    "    temp = eval(i)\n",
    "    dic_i = eval('dict_unique_'+i+'l')\n",
    "    key_list = list(dic_i.keys())\n",
    "    val_list = list(dic_i.values())\n",
    "\n",
    "    temp['s'] = 0\n",
    "    temp['s_p'] = 0\n",
    "\n",
    "    for z in range(len(temp)):\n",
    "        j = temp['state'].iloc[z]\n",
    "        k = temp['state_p'].iloc[z]\n",
    "        position_s = val_list.index(j)\n",
    "        position_s_p = val_list.index(k)\n",
    "        temp['s'].iloc[index] = key_list[position_s]\n",
    "        temp['s_p'].iloc[index] = key_list[position_s_p]\n",
    "        index +=1\n",
    "    temp['a'] = temp['act']/10\n",
    "    temp['a']  = temp['a'].astype(int)\n",
    "    globals()[i] = temp\n",
    "#my_dict_unique_displ.get()"
   ]
  },
  {
   "cell_type": "code",
   "execution_count": 40,
   "metadata": {},
   "outputs": [
    {
     "data": {
      "text/plain": [
       "1"
      ]
     },
     "execution_count": 40,
     "metadata": {},
     "output_type": "execute_result"
    }
   ],
   "source": [
    "vel['s'].min()"
   ]
  },
  {
   "cell_type": "code",
   "execution_count": 41,
   "metadata": {},
   "outputs": [],
   "source": [
    "for i in ['disp','vel','acc']:\n",
    "    globals()[i+'o'] = eval(i)[['s','a','r_'+i,'s_p']].rename(columns={ 'r_'+i: 'r','s_p' : 'sp'})"
   ]
  },
  {
   "cell_type": "markdown",
   "metadata": {},
   "source": [
    "# 4.2 Save the Data to Data file\n",
    "* csv\n",
    "* Dictionary"
   ]
  },
  {
   "cell_type": "code",
   "execution_count": 42,
   "metadata": {},
   "outputs": [],
   "source": [
    "for i in ['disp','vel','acc']:\n",
    "    eval(i+'o').to_csv('Data/Version_from_python/{}.csv'.format(i+'o'),index=False)\n",
    "\n",
    "    dic_i = eval('dict_unique_prev_'+i+'l')\n",
    "    a_file = open(\"Data/{}_dic.json\".format(i), \"w\")\n",
    "    json.dump(dic_i, a_file)\n",
    "    a_file.close()"
   ]
  },
  {
   "cell_type": "markdown",
   "metadata": {},
   "source": [
    "### Loading Test"
   ]
  },
  {
   "cell_type": "code",
   "execution_count": 43,
   "metadata": {},
   "outputs": [],
   "source": [
    "for i in ['disp','vel','acc']:\n",
    "    a_file = open(\"Data/Version_from_python/{}_dic.json\".format(i), \"r\")\n",
    "    output = a_file.read()\n",
    "    globals()['{}_dic'.format(i)]=output"
   ]
  },
  {
   "cell_type": "code",
   "execution_count": 44,
   "metadata": {},
   "outputs": [
    {
     "data": {
      "text/plain": [
       "{1, 2, 3, 4, 5, 6, 7, 8, 9, 10, 11, 12, 13, 14, 15, 16, 17, 18, 19, 20}"
      ]
     },
     "execution_count": 44,
     "metadata": {},
     "output_type": "execute_result"
    }
   ],
   "source": [
    "set(dispo['a'])"
   ]
  },
  {
   "cell_type": "code",
   "execution_count": 45,
   "metadata": {},
   "outputs": [
    {
     "data": {
      "text/plain": [
       "2551"
      ]
     },
     "execution_count": 45,
     "metadata": {},
     "output_type": "execute_result"
    }
   ],
   "source": [
    "len(set(velo['sp']))"
   ]
  },
  {
   "cell_type": "code",
   "execution_count": 115,
   "metadata": {},
   "outputs": [
    {
     "data": {
      "text/plain": [
       "17721"
      ]
     },
     "execution_count": 115,
     "metadata": {},
     "output_type": "execute_result"
    }
   ],
   "source": [
    "len(velo)"
   ]
  },
  {
   "cell_type": "code",
   "execution_count": 114,
   "metadata": {},
   "outputs": [
    {
     "data": {
      "text/plain": [
       "{1, 2, 3, 4, 5, 6, 7, 8, 9, 10, 11, 12, 13, 14, 15, 16, 17, 18, 19, 20}"
      ]
     },
     "execution_count": 114,
     "metadata": {},
     "output_type": "execute_result"
    }
   ],
   "source": [
    "set(acco['a'])"
   ]
  },
  {
   "cell_type": "code",
   "execution_count": 111,
   "metadata": {},
   "outputs": [],
   "source": [
    "# ratio =  max(DO) / max(NOTHING)\n",
    "    # if ratio = 1 -> reward = 0 + penalty\n",
    "    # if ratio > 1 -> reward = -ratio + penalty\n",
    "    # if ratio < 1 -> reward = 1/ratio + penalty\n",
    "\n",
    "# reward = max(NOTHING) / max(DO) - Voltage / constant "
   ]
  },
  {
   "cell_type": "code",
   "execution_count": null,
   "metadata": {},
   "outputs": [],
   "source": [
    "velo"
   ]
  }
 ],
 "metadata": {
  "interpreter": {
   "hash": "4bd624a0593993fe43ac4046b27b898fb2ef75c21c08f81e89e64ea0f51df676"
  },
  "kernelspec": {
   "display_name": "Python 3.9.7 64-bit (conda)",
   "language": "python",
   "name": "python3"
  },
  "language_info": {
   "codemirror_mode": {
    "name": "ipython",
    "version": 3
   },
   "file_extension": ".py",
   "mimetype": "text/x-python",
   "name": "python",
   "nbconvert_exporter": "python",
   "pygments_lexer": "ipython3",
   "version": "3.9.7"
  },
  "orig_nbformat": 4
 },
 "nbformat": 4,
 "nbformat_minor": 2
}
