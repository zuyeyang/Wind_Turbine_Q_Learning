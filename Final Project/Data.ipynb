{
 "cells": [
  {
   "cell_type": "markdown",
   "metadata": {},
   "source": [
    "# 1.Import Data"
   ]
  },
  {
   "cell_type": "code",
   "execution_count": 4,
   "metadata": {},
   "outputs": [],
   "source": [
    "import pandas as pd\n",
    "import numpy as np\n",
    "import json"
   ]
  },
  {
   "cell_type": "code",
   "execution_count": 20,
   "metadata": {},
   "outputs": [
    {
     "data": {
      "text/html": [
       "<div>\n",
       "<style scoped>\n",
       "    .dataframe tbody tr th:only-of-type {\n",
       "        vertical-align: middle;\n",
       "    }\n",
       "\n",
       "    .dataframe tbody tr th {\n",
       "        vertical-align: top;\n",
       "    }\n",
       "\n",
       "    .dataframe thead th {\n",
       "        text-align: right;\n",
       "    }\n",
       "</style>\n",
       "<table border=\"1\" class=\"dataframe\">\n",
       "  <thead>\n",
       "    <tr style=\"text-align: right;\">\n",
       "      <th></th>\n",
       "      <th>prev_displ</th>\n",
       "      <th>prev_vell</th>\n",
       "      <th>prev_accl</th>\n",
       "      <th>prev_wspd</th>\n",
       "      <th>displ</th>\n",
       "      <th>vell</th>\n",
       "      <th>accl</th>\n",
       "      <th>wspd</th>\n",
       "      <th>act</th>\n",
       "      <th>dispm</th>\n",
       "      <th>velm</th>\n",
       "      <th>accm</th>\n",
       "      <th>dispm_0</th>\n",
       "      <th>velm_0</th>\n",
       "      <th>accm_0</th>\n",
       "    </tr>\n",
       "  </thead>\n",
       "  <tbody>\n",
       "    <tr>\n",
       "      <th>0</th>\n",
       "      <td>0.000000</td>\n",
       "      <td>0.000000</td>\n",
       "      <td>0.000000</td>\n",
       "      <td>2.860</td>\n",
       "      <td>0.000101</td>\n",
       "      <td>0.000005</td>\n",
       "      <td>0.000060</td>\n",
       "      <td>3.080</td>\n",
       "      <td>10.0</td>\n",
       "      <td>0.000107</td>\n",
       "      <td>0.000142</td>\n",
       "      <td>0.000336</td>\n",
       "      <td>0.000108</td>\n",
       "      <td>0.000142</td>\n",
       "      <td>0.000336</td>\n",
       "    </tr>\n",
       "    <tr>\n",
       "      <th>1</th>\n",
       "      <td>0.000000</td>\n",
       "      <td>0.000000</td>\n",
       "      <td>0.000000</td>\n",
       "      <td>2.860</td>\n",
       "      <td>0.000100</td>\n",
       "      <td>0.000018</td>\n",
       "      <td>0.000051</td>\n",
       "      <td>3.080</td>\n",
       "      <td>20.0</td>\n",
       "      <td>0.000107</td>\n",
       "      <td>0.000142</td>\n",
       "      <td>0.000336</td>\n",
       "      <td>0.000108</td>\n",
       "      <td>0.000142</td>\n",
       "      <td>0.000336</td>\n",
       "    </tr>\n",
       "    <tr>\n",
       "      <th>2</th>\n",
       "      <td>0.000000</td>\n",
       "      <td>0.000000</td>\n",
       "      <td>0.000000</td>\n",
       "      <td>2.860</td>\n",
       "      <td>0.000099</td>\n",
       "      <td>0.000025</td>\n",
       "      <td>0.000035</td>\n",
       "      <td>3.080</td>\n",
       "      <td>30.0</td>\n",
       "      <td>0.000107</td>\n",
       "      <td>0.000142</td>\n",
       "      <td>0.000336</td>\n",
       "      <td>0.000108</td>\n",
       "      <td>0.000142</td>\n",
       "      <td>0.000336</td>\n",
       "    </tr>\n",
       "    <tr>\n",
       "      <th>3</th>\n",
       "      <td>0.000000</td>\n",
       "      <td>0.000000</td>\n",
       "      <td>0.000000</td>\n",
       "      <td>2.860</td>\n",
       "      <td>0.000098</td>\n",
       "      <td>0.000026</td>\n",
       "      <td>0.000017</td>\n",
       "      <td>3.080</td>\n",
       "      <td>40.0</td>\n",
       "      <td>0.000107</td>\n",
       "      <td>0.000142</td>\n",
       "      <td>0.000336</td>\n",
       "      <td>0.000108</td>\n",
       "      <td>0.000142</td>\n",
       "      <td>0.000336</td>\n",
       "    </tr>\n",
       "    <tr>\n",
       "      <th>4</th>\n",
       "      <td>0.000000</td>\n",
       "      <td>0.000000</td>\n",
       "      <td>0.000000</td>\n",
       "      <td>2.860</td>\n",
       "      <td>0.000096</td>\n",
       "      <td>0.000022</td>\n",
       "      <td>0.000006</td>\n",
       "      <td>3.080</td>\n",
       "      <td>50.0</td>\n",
       "      <td>0.000107</td>\n",
       "      <td>0.000146</td>\n",
       "      <td>0.000336</td>\n",
       "      <td>0.000108</td>\n",
       "      <td>0.000142</td>\n",
       "      <td>0.000336</td>\n",
       "    </tr>\n",
       "    <tr>\n",
       "      <th>...</th>\n",
       "      <td>...</td>\n",
       "      <td>...</td>\n",
       "      <td>...</td>\n",
       "      <td>...</td>\n",
       "      <td>...</td>\n",
       "      <td>...</td>\n",
       "      <td>...</td>\n",
       "      <td>...</td>\n",
       "      <td>...</td>\n",
       "      <td>...</td>\n",
       "      <td>...</td>\n",
       "      <td>...</td>\n",
       "      <td>...</td>\n",
       "      <td>...</td>\n",
       "      <td>...</td>\n",
       "    </tr>\n",
       "    <tr>\n",
       "      <th>23835</th>\n",
       "      <td>0.000071</td>\n",
       "      <td>0.000199</td>\n",
       "      <td>0.000183</td>\n",
       "      <td>9.636</td>\n",
       "      <td>0.000037</td>\n",
       "      <td>0.000175</td>\n",
       "      <td>0.000093</td>\n",
       "      <td>8.976</td>\n",
       "      <td>160.0</td>\n",
       "      <td>0.000126</td>\n",
       "      <td>0.000283</td>\n",
       "      <td>0.001810</td>\n",
       "      <td>0.000354</td>\n",
       "      <td>0.001104</td>\n",
       "      <td>0.003732</td>\n",
       "    </tr>\n",
       "    <tr>\n",
       "      <th>23836</th>\n",
       "      <td>0.000071</td>\n",
       "      <td>0.000199</td>\n",
       "      <td>0.000183</td>\n",
       "      <td>9.636</td>\n",
       "      <td>0.000036</td>\n",
       "      <td>0.000162</td>\n",
       "      <td>0.000076</td>\n",
       "      <td>8.976</td>\n",
       "      <td>170.0</td>\n",
       "      <td>0.000125</td>\n",
       "      <td>0.000265</td>\n",
       "      <td>0.001739</td>\n",
       "      <td>0.000354</td>\n",
       "      <td>0.001104</td>\n",
       "      <td>0.003732</td>\n",
       "    </tr>\n",
       "    <tr>\n",
       "      <th>23837</th>\n",
       "      <td>0.000071</td>\n",
       "      <td>0.000199</td>\n",
       "      <td>0.000183</td>\n",
       "      <td>9.636</td>\n",
       "      <td>0.000034</td>\n",
       "      <td>0.000150</td>\n",
       "      <td>0.000061</td>\n",
       "      <td>8.976</td>\n",
       "      <td>180.0</td>\n",
       "      <td>0.000124</td>\n",
       "      <td>0.000258</td>\n",
       "      <td>0.001710</td>\n",
       "      <td>0.000354</td>\n",
       "      <td>0.001104</td>\n",
       "      <td>0.003732</td>\n",
       "    </tr>\n",
       "    <tr>\n",
       "      <th>23838</th>\n",
       "      <td>0.000071</td>\n",
       "      <td>0.000199</td>\n",
       "      <td>0.000183</td>\n",
       "      <td>9.636</td>\n",
       "      <td>0.000063</td>\n",
       "      <td>0.000175</td>\n",
       "      <td>0.000094</td>\n",
       "      <td>8.976</td>\n",
       "      <td>190.0</td>\n",
       "      <td>0.000153</td>\n",
       "      <td>0.000352</td>\n",
       "      <td>0.002027</td>\n",
       "      <td>0.000354</td>\n",
       "      <td>0.001104</td>\n",
       "      <td>0.003732</td>\n",
       "    </tr>\n",
       "    <tr>\n",
       "      <th>23839</th>\n",
       "      <td>0.000071</td>\n",
       "      <td>0.000199</td>\n",
       "      <td>0.000183</td>\n",
       "      <td>9.636</td>\n",
       "      <td>0.000068</td>\n",
       "      <td>0.000171</td>\n",
       "      <td>0.000087</td>\n",
       "      <td>8.976</td>\n",
       "      <td>200.0</td>\n",
       "      <td>0.000170</td>\n",
       "      <td>0.000356</td>\n",
       "      <td>0.002025</td>\n",
       "      <td>0.000354</td>\n",
       "      <td>0.001104</td>\n",
       "      <td>0.003732</td>\n",
       "    </tr>\n",
       "  </tbody>\n",
       "</table>\n",
       "<p>23840 rows × 15 columns</p>\n",
       "</div>"
      ],
      "text/plain": [
       "       prev_displ  prev_vell  prev_accl  prev_wspd     displ      vell  \\\n",
       "0        0.000000   0.000000   0.000000      2.860  0.000101  0.000005   \n",
       "1        0.000000   0.000000   0.000000      2.860  0.000100  0.000018   \n",
       "2        0.000000   0.000000   0.000000      2.860  0.000099  0.000025   \n",
       "3        0.000000   0.000000   0.000000      2.860  0.000098  0.000026   \n",
       "4        0.000000   0.000000   0.000000      2.860  0.000096  0.000022   \n",
       "...           ...        ...        ...        ...       ...       ...   \n",
       "23835    0.000071   0.000199   0.000183      9.636  0.000037  0.000175   \n",
       "23836    0.000071   0.000199   0.000183      9.636  0.000036  0.000162   \n",
       "23837    0.000071   0.000199   0.000183      9.636  0.000034  0.000150   \n",
       "23838    0.000071   0.000199   0.000183      9.636  0.000063  0.000175   \n",
       "23839    0.000071   0.000199   0.000183      9.636  0.000068  0.000171   \n",
       "\n",
       "           accl   wspd    act     dispm      velm      accm   dispm_0  \\\n",
       "0      0.000060  3.080   10.0  0.000107  0.000142  0.000336  0.000108   \n",
       "1      0.000051  3.080   20.0  0.000107  0.000142  0.000336  0.000108   \n",
       "2      0.000035  3.080   30.0  0.000107  0.000142  0.000336  0.000108   \n",
       "3      0.000017  3.080   40.0  0.000107  0.000142  0.000336  0.000108   \n",
       "4      0.000006  3.080   50.0  0.000107  0.000146  0.000336  0.000108   \n",
       "...         ...    ...    ...       ...       ...       ...       ...   \n",
       "23835  0.000093  8.976  160.0  0.000126  0.000283  0.001810  0.000354   \n",
       "23836  0.000076  8.976  170.0  0.000125  0.000265  0.001739  0.000354   \n",
       "23837  0.000061  8.976  180.0  0.000124  0.000258  0.001710  0.000354   \n",
       "23838  0.000094  8.976  190.0  0.000153  0.000352  0.002027  0.000354   \n",
       "23839  0.000087  8.976  200.0  0.000170  0.000356  0.002025  0.000354   \n",
       "\n",
       "         velm_0    accm_0  \n",
       "0      0.000142  0.000336  \n",
       "1      0.000142  0.000336  \n",
       "2      0.000142  0.000336  \n",
       "3      0.000142  0.000336  \n",
       "4      0.000142  0.000336  \n",
       "...         ...       ...  \n",
       "23835  0.001104  0.003732  \n",
       "23836  0.001104  0.003732  \n",
       "23837  0.001104  0.003732  \n",
       "23838  0.001104  0.003732  \n",
       "23839  0.001104  0.003732  \n",
       "\n",
       "[23840 rows x 15 columns]"
      ]
     },
     "execution_count": 20,
     "metadata": {},
     "output_type": "execute_result"
    }
   ],
   "source": [
    "data = np.abs(round(pd.read_csv('Data/Raw/data_all.csv'),6))\n",
    "data= data.rename(columns = {'wspd':'prev_wspd','nxt_wspd':'wspd'})\n",
    "data"
   ]
  },
  {
   "cell_type": "code",
   "execution_count": 21,
   "metadata": {},
   "outputs": [],
   "source": [
    "#reward function = Ucondi/Uuncondi if \n",
    "for j in ['disp','vel','acc']:\n",
    "    data['r_'+j] = np.abs(data[j+'m']/data[j+'m_0'])\n",
    "    # if no change reward = 0\n",
    "    data.loc[data['r_'+j]==1,'r_'+j] = 0 - data['act']/2000\n",
    "    data.loc[data['r_'+j]>1,'r_'+j] = -data.loc[data['r_'+j]>1,'r_'+j] - data['act']/2000\n",
    "    data.loc[(data['r_'+j]<1)&(data['r_'+j]>0),'r_'+j] = 1/data.loc[data['r_'+j]<1,'r_'+j] - data['act']/2000\n",
    "    \n",
    "    "
   ]
  },
  {
   "cell_type": "markdown",
   "metadata": {},
   "source": [
    "# 2. Create Subset data"
   ]
  },
  {
   "cell_type": "markdown",
   "metadata": {},
   "source": [
    "## 2.1 Check Data summary for rewards"
   ]
  },
  {
   "cell_type": "code",
   "execution_count": 22,
   "metadata": {},
   "outputs": [
    {
     "name": "stdout",
     "output_type": "stream",
     "text": [
      "0.8238405861383501\n",
      "1.1350193798449615\n",
      "\n",
      "1.2667282901810843\n",
      "1.4524281934996222\n",
      "\n",
      "0.261303001582888\n",
      "0.9476684651934346\n",
      "\n"
     ]
    }
   ],
   "source": [
    "for j in ['disp','vel','acc']:\n",
    "    print(data['r_'+j].mean())\n",
    "    print(data['r_'+j].median())\n",
    "    print()"
   ]
  },
  {
   "cell_type": "markdown",
   "metadata": {},
   "source": [
    "# 2.2 Separate the Data for models"
   ]
  },
  {
   "cell_type": "code",
   "execution_count": 23,
   "metadata": {},
   "outputs": [
    {
     "data": {
      "text/html": [
       "<div>\n",
       "<style scoped>\n",
       "    .dataframe tbody tr th:only-of-type {\n",
       "        vertical-align: middle;\n",
       "    }\n",
       "\n",
       "    .dataframe tbody tr th {\n",
       "        vertical-align: top;\n",
       "    }\n",
       "\n",
       "    .dataframe thead th {\n",
       "        text-align: right;\n",
       "    }\n",
       "</style>\n",
       "<table border=\"1\" class=\"dataframe\">\n",
       "  <thead>\n",
       "    <tr style=\"text-align: right;\">\n",
       "      <th></th>\n",
       "      <th>state</th>\n",
       "      <th>state_p</th>\n",
       "      <th>act</th>\n",
       "      <th>r_disp</th>\n",
       "    </tr>\n",
       "  </thead>\n",
       "  <tbody>\n",
       "    <tr>\n",
       "      <th>0</th>\n",
       "      <td>(0.0, 2.86)</td>\n",
       "      <td>(0.000101, 3.08)</td>\n",
       "      <td>10.0</td>\n",
       "      <td>1.004346</td>\n",
       "    </tr>\n",
       "    <tr>\n",
       "      <th>1</th>\n",
       "      <td>(0.0, 2.86)</td>\n",
       "      <td>(0.0001, 3.08)</td>\n",
       "      <td>20.0</td>\n",
       "      <td>0.999346</td>\n",
       "    </tr>\n",
       "    <tr>\n",
       "      <th>2</th>\n",
       "      <td>(0.0, 2.86)</td>\n",
       "      <td>(9.9e-05, 3.08)</td>\n",
       "      <td>30.0</td>\n",
       "      <td>0.994346</td>\n",
       "    </tr>\n",
       "    <tr>\n",
       "      <th>3</th>\n",
       "      <td>(0.0, 2.86)</td>\n",
       "      <td>(9.8e-05, 3.08)</td>\n",
       "      <td>40.0</td>\n",
       "      <td>0.989346</td>\n",
       "    </tr>\n",
       "    <tr>\n",
       "      <th>4</th>\n",
       "      <td>(0.0, 2.86)</td>\n",
       "      <td>(9.6e-05, 3.08)</td>\n",
       "      <td>50.0</td>\n",
       "      <td>0.984346</td>\n",
       "    </tr>\n",
       "    <tr>\n",
       "      <th>...</th>\n",
       "      <td>...</td>\n",
       "      <td>...</td>\n",
       "      <td>...</td>\n",
       "      <td>...</td>\n",
       "    </tr>\n",
       "    <tr>\n",
       "      <th>23835</th>\n",
       "      <td>(7.1e-05, 9.636)</td>\n",
       "      <td>(3.7e-05, 8.976)</td>\n",
       "      <td>160.0</td>\n",
       "      <td>2.729524</td>\n",
       "    </tr>\n",
       "    <tr>\n",
       "      <th>23836</th>\n",
       "      <td>(7.1e-05, 9.636)</td>\n",
       "      <td>(3.6e-05, 8.976)</td>\n",
       "      <td>170.0</td>\n",
       "      <td>2.747000</td>\n",
       "    </tr>\n",
       "    <tr>\n",
       "      <th>23837</th>\n",
       "      <td>(7.1e-05, 9.636)</td>\n",
       "      <td>(3.4e-05, 8.976)</td>\n",
       "      <td>180.0</td>\n",
       "      <td>2.764839</td>\n",
       "    </tr>\n",
       "    <tr>\n",
       "      <th>23838</th>\n",
       "      <td>(7.1e-05, 9.636)</td>\n",
       "      <td>(6.3e-05, 8.976)</td>\n",
       "      <td>190.0</td>\n",
       "      <td>2.218725</td>\n",
       "    </tr>\n",
       "    <tr>\n",
       "      <th>23839</th>\n",
       "      <td>(7.1e-05, 9.636)</td>\n",
       "      <td>(6.8e-05, 8.976)</td>\n",
       "      <td>200.0</td>\n",
       "      <td>1.982353</td>\n",
       "    </tr>\n",
       "  </tbody>\n",
       "</table>\n",
       "<p>22473 rows × 4 columns</p>\n",
       "</div>"
      ],
      "text/plain": [
       "                  state           state_p    act    r_disp\n",
       "0           (0.0, 2.86)  (0.000101, 3.08)   10.0  1.004346\n",
       "1           (0.0, 2.86)    (0.0001, 3.08)   20.0  0.999346\n",
       "2           (0.0, 2.86)   (9.9e-05, 3.08)   30.0  0.994346\n",
       "3           (0.0, 2.86)   (9.8e-05, 3.08)   40.0  0.989346\n",
       "4           (0.0, 2.86)   (9.6e-05, 3.08)   50.0  0.984346\n",
       "...                 ...               ...    ...       ...\n",
       "23835  (7.1e-05, 9.636)  (3.7e-05, 8.976)  160.0  2.729524\n",
       "23836  (7.1e-05, 9.636)  (3.6e-05, 8.976)  170.0  2.747000\n",
       "23837  (7.1e-05, 9.636)  (3.4e-05, 8.976)  180.0  2.764839\n",
       "23838  (7.1e-05, 9.636)  (6.3e-05, 8.976)  190.0  2.218725\n",
       "23839  (7.1e-05, 9.636)  (6.8e-05, 8.976)  200.0  1.982353\n",
       "\n",
       "[22473 rows x 4 columns]"
      ]
     },
     "execution_count": 23,
     "metadata": {},
     "output_type": "execute_result"
    }
   ],
   "source": [
    "for j in ['disp','vel','acc']:\n",
    "    col_names = ['prev_'+j+'l', 'prev_wspd', j+'l', 'wspd', 'act', 'r_'+j]\n",
    "    globals()[j] = round(data[col_names],6)\n",
    "    eval(j)['state'] = list(zip( np.abs(eval(j)['prev_'+j+'l']),  eval(j)['prev_wspd']))\n",
    "    eval(j)['state_p'] = list(zip( np.abs(eval(j)[j+'l']),  eval(j)['wspd']))\n",
    "    globals()[j] = eval(j)[['state', 'state_p', 'act', 'r_'+j]].drop_duplicates()\n",
    "    eval(j).to_csv('Data/{}.csv'.format(j))\n",
    "# we have three datasets: disp, vel, acc, with s, s', a r\n",
    "disp"
   ]
  },
  {
   "cell_type": "code",
   "execution_count": 24,
   "metadata": {},
   "outputs": [
    {
     "name": "stdout",
     "output_type": "stream",
     "text": [
      "total samples: 22473\n",
      "total unique current state: 1076\n",
      "total unique next state: 5854\n",
      "\n",
      "total samples: 22749\n",
      "total unique current state: 1072\n",
      "total unique next state: 5569\n",
      "\n",
      "total samples: 22607\n",
      "total unique current state: 1056\n",
      "total unique next state: 5862\n",
      "\n"
     ]
    }
   ],
   "source": [
    "#check the total states vs observed next states\n",
    "for j in [disp,vel,acc]:\n",
    "    print('total samples:',len(j))\n",
    "    print('total unique current state:', len(set(j['state'])))\n",
    "    print('total unique next state:',len(set(j['state_p'])))\n",
    "    print()"
   ]
  },
  {
   "cell_type": "code",
   "execution_count": 25,
   "metadata": {},
   "outputs": [
    {
     "name": "stdout",
     "output_type": "stream",
     "text": [
      "prev_displ : 189\n",
      "prev_vell : 293\n",
      "prev_accl : 373\n",
      "prev_wspd : 155\n",
      "displ : 216\n",
      "vell : 431\n",
      "accl : 894\n",
      "wspd : 156\n",
      "act : 20\n",
      "dispm : 244\n",
      "velm : 768\n",
      "accm : 2363\n",
      "dispm_0 : 251\n",
      "velm_0 : 602\n",
      "accm_0 : 910\n",
      "r_disp : 18751\n",
      "r_vel : 21900\n",
      "r_acc : 18464\n"
     ]
    }
   ],
   "source": [
    "for i in data.columns:\n",
    "    print(i,':',len(set(data[i])))\n",
    "# 20 actions\n",
    "# 395 displacement\n",
    "# 675 velocity\n",
    "# 1026 acceleration"
   ]
  },
  {
   "cell_type": "markdown",
   "metadata": {},
   "source": [
    "## 2.3 Unique Value of (parameter, wind_speed)"
   ]
  },
  {
   "cell_type": "code",
   "execution_count": 26,
   "metadata": {},
   "outputs": [
    {
     "data": {
      "text/plain": [
       "(33635, 67270, 138725)"
      ]
     },
     "execution_count": 26,
     "metadata": {},
     "output_type": "execute_result"
    }
   ],
   "source": [
    "for i in ['displ','vell','accl']:\n",
    "    temp = set(pd.concat([data['prev_'+i],data[i]], axis=0,ignore_index=True))\n",
    "    temp2 = set(pd.concat([data['prev_wspd'],data['wspd']], axis=0,ignore_index=True))\n",
    "    globals()['unique_{}'.format(i)] = [(j,k) for j in temp for k in temp2]\n",
    "len(unique_displ),len(unique_vell),len(unique_accl)\n",
    "(33635, 67270, 138725)"
   ]
  },
  {
   "cell_type": "markdown",
   "metadata": {},
   "source": [
    "# 4. Dictionarized all (disp/vel/acc, wind) to s1,s2..."
   ]
  },
  {
   "cell_type": "code",
   "execution_count": 27,
   "metadata": {},
   "outputs": [
    {
     "data": {
      "text/plain": [
       "33696"
      ]
     },
     "execution_count": 27,
     "metadata": {},
     "output_type": "execute_result"
    }
   ],
   "source": [
    "#create dictionary for each state\n",
    "for i in ['unique_displ','unique_vell','unique_accl']:\n",
    "  my_list = eval(i)\n",
    "  globals()['dict_'+i] = dict() \n",
    "  for index,value in enumerate(my_list):\n",
    "    eval('dict_'+i)[index+1] = value\n",
    "#dict_unique_prev_displ\n",
    "len(dict_unique_displ.keys())"
   ]
  },
  {
   "cell_type": "markdown",
   "metadata": {},
   "source": [
    "## 4.1 Conver the tuple states into a dictionarized states "
   ]
  },
  {
   "cell_type": "code",
   "execution_count": 28,
   "metadata": {},
   "outputs": [
    {
     "name": "stdout",
     "output_type": "stream",
     "text": [
      "disp\n"
     ]
    },
    {
     "name": "stderr",
     "output_type": "stream",
     "text": [
      "/opt/homebrew/Caskroom/miniforge/base/envs/tensorflow/lib/python3.9/site-packages/pandas/core/indexing.py:1732: SettingWithCopyWarning: \n",
      "A value is trying to be set on a copy of a slice from a DataFrame\n",
      "\n",
      "See the caveats in the documentation: https://pandas.pydata.org/pandas-docs/stable/user_guide/indexing.html#returning-a-view-versus-a-copy\n",
      "  self._setitem_single_block(indexer, value, name)\n"
     ]
    },
    {
     "name": "stdout",
     "output_type": "stream",
     "text": [
      "vel\n",
      "acc\n"
     ]
    }
   ],
   "source": [
    "\n",
    "for i in ['disp','vel','acc']:\n",
    "    print(i)\n",
    "    index = 0\n",
    "    temp = eval(i)\n",
    "    dic_i = eval('dict_unique_'+i+'l')\n",
    "    key_list = list(dic_i.keys())\n",
    "    val_list = list(dic_i.values())\n",
    "\n",
    "    temp['s'] = 0\n",
    "    temp['s_p'] = 0\n",
    "\n",
    "    for z in range(len(temp)):\n",
    "        j = temp['state'].iloc[z]\n",
    "        k = temp['state_p'].iloc[z]\n",
    "        position_s = val_list.index(j)\n",
    "        position_s_p = val_list.index(k)\n",
    "        temp['s'].iloc[index] = key_list[position_s]\n",
    "        temp['s_p'].iloc[index] = key_list[position_s_p]\n",
    "        index +=1\n",
    "    temp['a'] = temp['act']/10\n",
    "    temp['a']  = temp['a'].astype(int)\n",
    "    globals()[i] = temp\n",
    "#my_dict_unique_displ.get()"
   ]
  },
  {
   "cell_type": "code",
   "execution_count": 29,
   "metadata": {},
   "outputs": [
    {
     "data": {
      "text/plain": [
       "1"
      ]
     },
     "execution_count": 29,
     "metadata": {},
     "output_type": "execute_result"
    }
   ],
   "source": [
    "vel['s'].min()"
   ]
  },
  {
   "cell_type": "code",
   "execution_count": 30,
   "metadata": {},
   "outputs": [],
   "source": [
    "for i in ['disp','vel','acc']:\n",
    "    globals()[i+'o'] = eval(i)[['s','a','r_'+i,'s_p']].rename(columns={ 'r_'+i: 'r','s_p' : 'sp'})"
   ]
  },
  {
   "cell_type": "markdown",
   "metadata": {},
   "source": [
    "# 4.2 Save the Data to Data file\n",
    "* csv\n",
    "* Dictionary"
   ]
  },
  {
   "cell_type": "code",
   "execution_count": 31,
   "metadata": {},
   "outputs": [],
   "source": [
    "for i in ['disp','vel','acc']:\n",
    "    #eval(i+'o').to_csv('Data/Version_from_python/{}.csv'.format(i+'o'),index=False)\n",
    "\n",
    "    dic_i = eval('dict_unique_'+i+'l')\n",
    "    a_file = open(\"Data/Version_from_python/{}_dic.json\".format(i), \"w\")\n",
    "    json.dump(dic_i, a_file)\n",
    "    a_file.close()"
   ]
  },
  {
   "cell_type": "markdown",
   "metadata": {},
   "source": [
    "### Loading Test"
   ]
  },
  {
   "cell_type": "code",
   "execution_count": 32,
   "metadata": {},
   "outputs": [],
   "source": [
    "for i in ['disp','vel','acc']:\n",
    "    a_file = open(\"Data/Version_from_python/{}_dic.json\".format(i), \"r\")\n",
    "    output = a_file.read()\n",
    "    globals()['{}_dic'.format(i)]=output\n",
    "#dict_unique_displ"
   ]
  },
  {
   "cell_type": "code",
   "execution_count": 33,
   "metadata": {},
   "outputs": [],
   "source": [
    "a_file = open(\"Data/Version_from_python/disp_dic.json\", \"r\")\n",
    "a_dictionary = json.load(a_file)"
   ]
  },
  {
   "cell_type": "code",
   "execution_count": 34,
   "metadata": {},
   "outputs": [
    {
     "data": {
      "text/plain": [
       "[0.0, 0.484]"
      ]
     },
     "execution_count": 34,
     "metadata": {},
     "output_type": "execute_result"
    }
   ],
   "source": [
    "a_dictionary['1']"
   ]
  },
  {
   "cell_type": "code",
   "execution_count": 35,
   "metadata": {},
   "outputs": [
    {
     "data": {
      "text/plain": [
       "'\"'"
      ]
     },
     "execution_count": 35,
     "metadata": {},
     "output_type": "execute_result"
    }
   ],
   "source": [
    "len(disp_dic)\n",
    "disp_dic[1]"
   ]
  },
  {
   "cell_type": "code",
   "execution_count": 36,
   "metadata": {},
   "outputs": [],
   "source": [
    "# ratio =  max(DO) / max(NOTHING)\n",
    "    # if ratio = 1 -> reward = 0 + penalty\n",
    "    # if ratio > 1 -> reward = -ratio + penalty\n",
    "    # if ratio < 1 -> reward = 1/ratio + penalty\n",
    "\n",
    "# reward = max(NOTHING) / max(DO) - Voltage / constant "
   ]
  },
  {
   "cell_type": "code",
   "execution_count": null,
   "metadata": {},
   "outputs": [],
   "source": []
  }
 ],
 "metadata": {
  "interpreter": {
   "hash": "4bd624a0593993fe43ac4046b27b898fb2ef75c21c08f81e89e64ea0f51df676"
  },
  "kernelspec": {
   "display_name": "Python 3.9.7 64-bit (conda)",
   "language": "python",
   "name": "python3"
  },
  "language_info": {
   "codemirror_mode": {
    "name": "ipython",
    "version": 3
   },
   "file_extension": ".py",
   "mimetype": "text/x-python",
   "name": "python",
   "nbconvert_exporter": "python",
   "pygments_lexer": "ipython3",
   "version": "3.9.7"
  },
  "orig_nbformat": 4
 },
 "nbformat": 4,
 "nbformat_minor": 2
}
