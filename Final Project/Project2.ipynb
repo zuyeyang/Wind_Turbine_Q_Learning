{
 "cells": [
  {
   "cell_type": "code",
   "execution_count": 1,
   "metadata": {},
   "outputs": [],
   "source": [
    "using Printf\n",
    "using CSV\n",
    "using DataFrames\n",
    "using SpecialFunctions\n",
    "using LinearAlgebra\n",
    "#3537.732014626929\t25.323011946046602\t133.0995949999986\t3379.309407680884\n"
   ]
  },
  {
   "cell_type": "code",
   "execution_count": 2,
   "id": "1fa0e85f",
   "metadata": {},
   "outputs": [
    {
     "data": {
      "text/plain": [
       "simulate2 (generic function with 1 method)"
      ]
     },
     "execution_count": 2,
     "metadata": {},
     "output_type": "execute_result"
    }
   ],
   "source": [
    "#Small.csv\n",
    "\n",
    "mutable struct QLearning\n",
    "    𝒮 # state space (assumes 1:nstates) \n",
    "    𝒜 # action space (assumes 1:nactions) \n",
    "    γ # discount\n",
    "    Q # action value function\n",
    "    α # learning rate \n",
    "end\n",
    "\n",
    "function update!(model::QLearning, s, a, r, s′) \n",
    "    γ, Q, α = model.γ, model.Q, model.α\n",
    "    Q[s,a] += α*(r + γ*maximum(Q[s′,:]) .- Q[s,a])\n",
    "    return model\n",
    "end\n",
    "\n",
    "function simulate2(df, model, h)\n",
    "    prior = 0\n",
    "    for i in 1:h\n",
    "        for (s,a,r,sp) in eachrow(df)\n",
    "            update!(model, s, a, r, sp)\n",
    "        end\n",
    "        if sum(model.Q) - prior < 0.001\n",
    "            print(i)\n",
    "            break\n",
    "        end\n",
    "        prior = sum(model.Q)\n",
    "    end\n",
    "end"
   ]
  },
  {
   "cell_type": "code",
   "execution_count": 3,
   "metadata": {},
   "outputs": [],
   "source": [
    "#Small\n",
    "filename = \"small.policy\"\n",
    "inputfile = \"small.csv\"\n",
    "df = DataFrame(CSV.File(inputfile));"
   ]
  },
  {
   "cell_type": "code",
   "execution_count": 6,
   "metadata": {},
   "outputs": [
    {
     "ename": "LoadError",
     "evalue": "BoundsError: attempt to access 100×4 Matrix{Float64} at index [25203, 1]",
     "output_type": "error",
     "traceback": [
      "BoundsError: attempt to access 100×4 Matrix{Float64} at index [25203, 1]",
      "",
      "Stacktrace:",
      " [1] getindex(::Matrix{Float64}, ::Int64, ::Int64)",
      "   @ Base ./array.jl:802",
      " [2] update!(model::QLearning, s::Int64, a::Int64, r::Int64, s′::Int64)",
      "   @ Main ./In[2]:13",
      " [3] simulate2(df::DataFrame, model::QLearning, h::Int64)",
      "   @ Main ./In[2]:21",
      " [4] top-level scope",
      "   @ In[6]:10",
      " [5] eval",
      "   @ ./boot.jl:360 [inlined]",
      " [6] include_string(mapexpr::typeof(REPL.softscope), mod::Module, code::String, filename::String)",
      "   @ Base ./loading.jl:1116"
     ]
    }
   ],
   "source": [
    "γ = 0.95\n",
    "lengths = 100\n",
    "lengtha = 4\n",
    "𝒮 = collect(1:lengths)\n",
    "𝒜 = collect(1:lengtha)\n",
    "Q = zeros(lengths, lengtha)\n",
    "α = 0.2 # learning rate\n",
    "model = QLearning(𝒮, 𝒜, γ, Q, α) \n",
    "k = 1 # number of steps to simulate \n",
    "simulate2(df,model, k)\n",
    "\n",
    "v, π = findmax(model.Q,dims = 2)\n",
    "\n",
    "open(filename, \"w+\") do io\n",
    "    for s in 1:length(π)\n",
    "        println(io,π[s][2])\n",
    "    end\n",
    "end"
   ]
  },
  {
   "cell_type": "code",
   "execution_count": null,
   "metadata": {},
   "outputs": [],
   "source": [
    "#medium\n",
    "filename = \"medium.policy\"\n",
    "inputfile = \"medium.csv\"\n",
    "df = DataFrame(CSV.File(inputfile));"
   ]
  },
  {
   "cell_type": "code",
   "execution_count": null,
   "metadata": {},
   "outputs": [],
   "source": [
    "γ = 1\n",
    "lengths = 50000\n",
    "lengtha = 7\n",
    "𝒮 = collect(1:lengths)\n",
    "𝒜 = collect(1:lengtha)\n",
    "Q = zeros(lengths, lengtha)\n",
    "α = 0.2 # learning rate\n",
    "model = QLearning(𝒮, 𝒜, γ, Q, α) \n",
    "α = 1 # exploration decay factor\n",
    "k = 150 # number of steps to simulate \n",
    "simulate2(df,model, k)"
   ]
  },
  {
   "cell_type": "code",
   "execution_count": 342,
   "metadata": {},
   "outputs": [],
   "source": [
    "temp = rand(Float64, (1, lengtha))\n",
    "for s in collect(1:lengths)\n",
    "    if sum(model.Q[s,:]) == 0\n",
    "        model.Q[s,:] = temp\n",
    "    else\n",
    "        temp = model.Q[s,:]\n",
    "    end\n",
    "end\n",
    "\n"
   ]
  },
  {
   "cell_type": "code",
   "execution_count": 343,
   "metadata": {},
   "outputs": [],
   "source": [
    "v, π = findmax(model.Q,dims = 2)\n",
    "open(filename, \"w+\") do io\n",
    "    for s in 1:length(π)\n",
    "        println(io,π[s][2])\n",
    "    end\n",
    "end"
   ]
  },
  {
   "cell_type": "code",
   "execution_count": 377,
   "metadata": {},
   "outputs": [],
   "source": [
    "#large\n",
    "filename = \"large.policy\"\n",
    "inputfile = \"large.csv\"\n",
    "df = DataFrame(CSV.File(inputfile));"
   ]
  },
  {
   "cell_type": "code",
   "execution_count": 365,
   "metadata": {},
   "outputs": [
    {
     "data": {
      "text/plain": [
       "([0.8213646030974739; 0.8213646030974739; … ; 23.808131328465983; 23.808131328465983], CartesianIndex{2}[CartesianIndex(1, 4); CartesianIndex(2, 4); … ; CartesianIndex(312019, 5); CartesianIndex(312020, 5)])"
      ]
     },
     "execution_count": 365,
     "metadata": {},
     "output_type": "execute_result"
    }
   ],
   "source": [
    "γ = 0.95\n",
    "lengths = 312020\n",
    "lengtha = 9\n",
    "𝒮 = collect(1:lengths)\n",
    "𝒜 = collect(1:lengtha)\n",
    "Q = zeros(lengths, lengtha)\n",
    "α = 0.2 # learning rate\n",
    "model = QLearning(𝒮, 𝒜, γ, Q, α) \n",
    "k = 1 # number of steps to simulate \n",
    "simulate2(df,model, k)\n",
    "\n",
    "temp = rand(Float64, (1, lengtha))\n",
    "for s in collect(1:lengths)\n",
    "    if sum(model.Q[s,:]) == 0\n",
    "        model.Q[s,:] = temp\n",
    "    else\n",
    "        temp = model.Q[s,:]\n",
    "    end\n",
    "end\n",
    "\n",
    "seen = unique(df[!,:s]);\n",
    "unseen = setdiff(collect(1:lengths),seen);\n",
    "\n",
    "v, π = findmax(model.Q,dims = 2)\n"
   ]
  },
  {
   "cell_type": "code",
   "execution_count": 348,
   "metadata": {},
   "outputs": [],
   "source": [
    "open(filename, \"w+\") do io\n",
    "    for s in 1:length(π)\n",
    "        println(io,π[s][2])\n",
    "    end\n",
    "end"
   ]
  },
  {
   "cell_type": "code",
   "execution_count": null,
   "metadata": {},
   "outputs": [],
   "source": []
  }
 ],
 "metadata": {
  "kernelspec": {
   "display_name": "Julia 1.6.2",
   "language": "julia",
   "name": "julia-1.6"
  },
  "language_info": {
   "file_extension": ".jl",
   "mimetype": "application/julia",
   "name": "julia",
   "version": "1.6.2"
  }
 },
 "nbformat": 4,
 "nbformat_minor": 5
}
